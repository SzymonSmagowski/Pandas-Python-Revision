{
 "cells": [
  {
   "cell_type": "code",
   "execution_count": 11,
   "id": "4091c51b",
   "metadata": {},
   "outputs": [],
   "source": [
    "import pandas as pd\n",
    "import numpy as np\n",
    "import matplotlib.pyplot as plt\n",
    "import math as math\n",
    "frame = pd.read_csv(\"./Canadian Railway Crossing Incidents.csv\")"
   ]
  },
  {
   "cell_type": "code",
   "execution_count": 12,
   "id": "bcebb224",
   "metadata": {},
   "outputs": [
    {
     "data": {
      "text/html": [
       "<div>\n",
       "<style scoped>\n",
       "    .dataframe tbody tr th:only-of-type {\n",
       "        vertical-align: middle;\n",
       "    }\n",
       "\n",
       "    .dataframe tbody tr th {\n",
       "        vertical-align: top;\n",
       "    }\n",
       "\n",
       "    .dataframe thead th {\n",
       "        text-align: right;\n",
       "    }\n",
       "</style>\n",
       "<table border=\"1\" class=\"dataframe\">\n",
       "  <thead>\n",
       "    <tr style=\"text-align: right;\">\n",
       "      <th></th>\n",
       "      <th>Region</th>\n",
       "      <th>EventType</th>\n",
       "      <th>Public automated</th>\n",
       "      <th>Public passive</th>\n",
       "      <th>Private</th>\n",
       "      <th>Farm</th>\n",
       "    </tr>\n",
       "  </thead>\n",
       "  <tbody>\n",
       "    <tr>\n",
       "      <th>0</th>\n",
       "      <td>Newfoundland</td>\n",
       "      <td>Accidents</td>\n",
       "      <td>0</td>\n",
       "      <td>0</td>\n",
       "      <td>0</td>\n",
       "      <td>0</td>\n",
       "    </tr>\n",
       "    <tr>\n",
       "      <th>1</th>\n",
       "      <td>Newfoundland</td>\n",
       "      <td>Fatalities</td>\n",
       "      <td>0</td>\n",
       "      <td>0</td>\n",
       "      <td>0</td>\n",
       "      <td>0</td>\n",
       "    </tr>\n",
       "    <tr>\n",
       "      <th>2</th>\n",
       "      <td>Newfoundland</td>\n",
       "      <td>Serious injuries</td>\n",
       "      <td>0</td>\n",
       "      <td>0</td>\n",
       "      <td>0</td>\n",
       "      <td>0</td>\n",
       "    </tr>\n",
       "    <tr>\n",
       "      <th>3</th>\n",
       "      <td>Nova Scotia</td>\n",
       "      <td>Accidents</td>\n",
       "      <td>1</td>\n",
       "      <td>0</td>\n",
       "      <td>0</td>\n",
       "      <td>0</td>\n",
       "    </tr>\n",
       "    <tr>\n",
       "      <th>4</th>\n",
       "      <td>Nova Scotia</td>\n",
       "      <td>Fatalities</td>\n",
       "      <td>0</td>\n",
       "      <td>0</td>\n",
       "      <td>0</td>\n",
       "      <td>0</td>\n",
       "    </tr>\n",
       "  </tbody>\n",
       "</table>\n",
       "</div>"
      ],
      "text/plain": [
       "         Region         EventType  Public automated  Public passive  Private  \\\n",
       "0  Newfoundland         Accidents                 0               0        0   \n",
       "1  Newfoundland        Fatalities                 0               0        0   \n",
       "2  Newfoundland  Serious injuries                 0               0        0   \n",
       "3   Nova Scotia         Accidents                 1               0        0   \n",
       "4   Nova Scotia        Fatalities                 0               0        0   \n",
       "\n",
       "   Farm  \n",
       "0     0  \n",
       "1     0  \n",
       "2     0  \n",
       "3     0  \n",
       "4     0  "
      ]
     },
     "execution_count": 12,
     "metadata": {},
     "output_type": "execute_result"
    }
   ],
   "source": [
    "frame.head()"
   ]
  },
  {
   "cell_type": "code",
   "execution_count": 13,
   "id": "878c5058",
   "metadata": {},
   "outputs": [
    {
     "data": {
      "text/html": [
       "<div>\n",
       "<style scoped>\n",
       "    .dataframe tbody tr th:only-of-type {\n",
       "        vertical-align: middle;\n",
       "    }\n",
       "\n",
       "    .dataframe tbody tr th {\n",
       "        vertical-align: top;\n",
       "    }\n",
       "\n",
       "    .dataframe thead th {\n",
       "        text-align: right;\n",
       "    }\n",
       "</style>\n",
       "<table border=\"1\" class=\"dataframe\">\n",
       "  <thead>\n",
       "    <tr style=\"text-align: right;\">\n",
       "      <th></th>\n",
       "      <th></th>\n",
       "      <th>Public automated</th>\n",
       "      <th>Public passive</th>\n",
       "      <th>Private</th>\n",
       "      <th>Farm</th>\n",
       "    </tr>\n",
       "    <tr>\n",
       "      <th>Region</th>\n",
       "      <th>EventType</th>\n",
       "      <th></th>\n",
       "      <th></th>\n",
       "      <th></th>\n",
       "      <th></th>\n",
       "    </tr>\n",
       "  </thead>\n",
       "  <tbody>\n",
       "    <tr>\n",
       "      <th rowspan=\"3\" valign=\"top\">Newfoundland</th>\n",
       "      <th>Accidents</th>\n",
       "      <td>0</td>\n",
       "      <td>0</td>\n",
       "      <td>0</td>\n",
       "      <td>0</td>\n",
       "    </tr>\n",
       "    <tr>\n",
       "      <th>Fatalities</th>\n",
       "      <td>0</td>\n",
       "      <td>0</td>\n",
       "      <td>0</td>\n",
       "      <td>0</td>\n",
       "    </tr>\n",
       "    <tr>\n",
       "      <th>Serious injuries</th>\n",
       "      <td>0</td>\n",
       "      <td>0</td>\n",
       "      <td>0</td>\n",
       "      <td>0</td>\n",
       "    </tr>\n",
       "    <tr>\n",
       "      <th rowspan=\"2\" valign=\"top\">Nova Scotia</th>\n",
       "      <th>Accidents</th>\n",
       "      <td>1</td>\n",
       "      <td>0</td>\n",
       "      <td>0</td>\n",
       "      <td>0</td>\n",
       "    </tr>\n",
       "    <tr>\n",
       "      <th>Fatalities</th>\n",
       "      <td>0</td>\n",
       "      <td>0</td>\n",
       "      <td>0</td>\n",
       "      <td>0</td>\n",
       "    </tr>\n",
       "  </tbody>\n",
       "</table>\n",
       "</div>"
      ],
      "text/plain": [
       "                               Public automated  Public passive  Private  Farm\n",
       "Region       EventType                                                        \n",
       "Newfoundland Accidents                        0               0        0     0\n",
       "             Fatalities                       0               0        0     0\n",
       "             Serious injuries                 0               0        0     0\n",
       "Nova Scotia  Accidents                        1               0        0     0\n",
       "             Fatalities                       0               0        0     0"
      ]
     },
     "execution_count": 13,
     "metadata": {},
     "output_type": "execute_result"
    }
   ],
   "source": [
    "frame.set_index([\"Region\",\"EventType\"],inplace=True)\n",
    "frame.head()"
   ]
  },
  {
   "cell_type": "code",
   "execution_count": 14,
   "id": "6748df8c",
   "metadata": {
    "scrolled": true
   },
   "outputs": [
    {
     "data": {
      "text/plain": [
       "MultiIndex([(         'Newfoundland',        'Accidents'),\n",
       "            (         'Newfoundland',       'Fatalities'),\n",
       "            (         'Newfoundland', 'Serious injuries'),\n",
       "            (          'Nova Scotia',        'Accidents'),\n",
       "            (          'Nova Scotia',       'Fatalities'),\n",
       "            (          'Nova Scotia', 'Serious injuries'),\n",
       "            (        'New Brunswick',        'Accidents'),\n",
       "            (        'New Brunswick',       'Fatalities'),\n",
       "            (        'New Brunswick', 'Serious injuries'),\n",
       "            (               'Quebec',        'Accidents'),\n",
       "            (               'Quebec',       'Fatalities'),\n",
       "            (               'Quebec', 'Serious injuries'),\n",
       "            (              'Ontario',        'Accidents'),\n",
       "            (              'Ontario',       'Fatalities'),\n",
       "            (              'Ontario', 'Serious injuries'),\n",
       "            (             'Manitoba',        'Accidents'),\n",
       "            (             'Manitoba',       'Fatalities'),\n",
       "            (             'Manitoba', 'Serious injuries'),\n",
       "            (         'Saskatchewan',        'Accidents'),\n",
       "            (         'Saskatchewan',       'Fatalities'),\n",
       "            (         'Saskatchewan', 'Serious injuries'),\n",
       "            (              'Alberta',        'Accidents'),\n",
       "            (              'Alberta',       'Fatalities'),\n",
       "            (              'Alberta', 'Serious injuries'),\n",
       "            (     'British Columbia',        'Accidents'),\n",
       "            (     'British Columbia',       'Fatalities'),\n",
       "            (     'British Columbia', 'Serious injuries'),\n",
       "            ('Northwest Territories',        'Accidents'),\n",
       "            ('Northwest Territories',       'Fatalities'),\n",
       "            ('Northwest Territories', 'Serious injuries')],\n",
       "           names=['Region', 'EventType'])"
      ]
     },
     "execution_count": 14,
     "metadata": {},
     "output_type": "execute_result"
    }
   ],
   "source": [
    "frame.index"
   ]
  },
  {
   "cell_type": "code",
   "execution_count": 15,
   "id": "a534bcc1",
   "metadata": {},
   "outputs": [
    {
     "data": {
      "text/plain": [
       "Index(['Newfoundland', 'Newfoundland', 'Newfoundland', 'Nova Scotia',\n",
       "       'Nova Scotia', 'Nova Scotia', 'New Brunswick', 'New Brunswick',\n",
       "       'New Brunswick', 'Quebec', 'Quebec', 'Quebec', 'Ontario', 'Ontario',\n",
       "       'Ontario', 'Manitoba', 'Manitoba', 'Manitoba', 'Saskatchewan',\n",
       "       'Saskatchewan', 'Saskatchewan', 'Alberta', 'Alberta', 'Alberta',\n",
       "       'British Columbia', 'British Columbia', 'British Columbia',\n",
       "       'Northwest Territories', 'Northwest Territories',\n",
       "       'Northwest Territories'],\n",
       "      dtype='object', name='Region')"
      ]
     },
     "execution_count": 15,
     "metadata": {},
     "output_type": "execute_result"
    }
   ],
   "source": [
    "frame.index.get_level_values(0)"
   ]
  },
  {
   "cell_type": "code",
   "execution_count": 16,
   "id": "4d4d4626",
   "metadata": {},
   "outputs": [
    {
     "data": {
      "text/plain": [
       "Index(['Accidents', 'Fatalities', 'Serious injuries', 'Accidents',\n",
       "       'Fatalities', 'Serious injuries', 'Accidents', 'Fatalities',\n",
       "       'Serious injuries', 'Accidents', 'Fatalities', 'Serious injuries',\n",
       "       'Accidents', 'Fatalities', 'Serious injuries', 'Accidents',\n",
       "       'Fatalities', 'Serious injuries', 'Accidents', 'Fatalities',\n",
       "       'Serious injuries', 'Accidents', 'Fatalities', 'Serious injuries',\n",
       "       'Accidents', 'Fatalities', 'Serious injuries', 'Accidents',\n",
       "       'Fatalities', 'Serious injuries'],\n",
       "      dtype='object', name='EventType')"
      ]
     },
     "execution_count": 16,
     "metadata": {},
     "output_type": "execute_result"
    }
   ],
   "source": [
    "frame.index.get_level_values(1)"
   ]
  },
  {
   "cell_type": "code",
   "execution_count": 17,
   "id": "e97b9b70",
   "metadata": {},
   "outputs": [
    {
     "data": {
      "text/plain": [
       "FrozenList(['Region', 'EventType'])"
      ]
     },
     "execution_count": 17,
     "metadata": {},
     "output_type": "execute_result"
    }
   ],
   "source": [
    "frame.index.names"
   ]
  },
  {
   "cell_type": "code",
   "execution_count": 18,
   "id": "c50055c5",
   "metadata": {},
   "outputs": [
    {
     "data": {
      "text/html": [
       "<div>\n",
       "<style scoped>\n",
       "    .dataframe tbody tr th:only-of-type {\n",
       "        vertical-align: middle;\n",
       "    }\n",
       "\n",
       "    .dataframe tbody tr th {\n",
       "        vertical-align: top;\n",
       "    }\n",
       "\n",
       "    .dataframe thead th {\n",
       "        text-align: right;\n",
       "    }\n",
       "</style>\n",
       "<table border=\"1\" class=\"dataframe\">\n",
       "  <thead>\n",
       "    <tr style=\"text-align: right;\">\n",
       "      <th></th>\n",
       "      <th></th>\n",
       "      <th>Public automated</th>\n",
       "      <th>Public passive</th>\n",
       "      <th>Private</th>\n",
       "      <th>Farm</th>\n",
       "    </tr>\n",
       "    <tr>\n",
       "      <th>A</th>\n",
       "      <th>B</th>\n",
       "      <th></th>\n",
       "      <th></th>\n",
       "      <th></th>\n",
       "      <th></th>\n",
       "    </tr>\n",
       "  </thead>\n",
       "  <tbody>\n",
       "    <tr>\n",
       "      <th rowspan=\"3\" valign=\"top\">Newfoundland</th>\n",
       "      <th>Accidents</th>\n",
       "      <td>0</td>\n",
       "      <td>0</td>\n",
       "      <td>0</td>\n",
       "      <td>0</td>\n",
       "    </tr>\n",
       "    <tr>\n",
       "      <th>Fatalities</th>\n",
       "      <td>0</td>\n",
       "      <td>0</td>\n",
       "      <td>0</td>\n",
       "      <td>0</td>\n",
       "    </tr>\n",
       "    <tr>\n",
       "      <th>Serious injuries</th>\n",
       "      <td>0</td>\n",
       "      <td>0</td>\n",
       "      <td>0</td>\n",
       "      <td>0</td>\n",
       "    </tr>\n",
       "    <tr>\n",
       "      <th rowspan=\"2\" valign=\"top\">Nova Scotia</th>\n",
       "      <th>Accidents</th>\n",
       "      <td>1</td>\n",
       "      <td>0</td>\n",
       "      <td>0</td>\n",
       "      <td>0</td>\n",
       "    </tr>\n",
       "    <tr>\n",
       "      <th>Fatalities</th>\n",
       "      <td>0</td>\n",
       "      <td>0</td>\n",
       "      <td>0</td>\n",
       "      <td>0</td>\n",
       "    </tr>\n",
       "  </tbody>\n",
       "</table>\n",
       "</div>"
      ],
      "text/plain": [
       "                               Public automated  Public passive  Private  Farm\n",
       "A            B                                                                \n",
       "Newfoundland Accidents                        0               0        0     0\n",
       "             Fatalities                       0               0        0     0\n",
       "             Serious injuries                 0               0        0     0\n",
       "Nova Scotia  Accidents                        1               0        0     0\n",
       "             Fatalities                       0               0        0     0"
      ]
     },
     "execution_count": 18,
     "metadata": {},
     "output_type": "execute_result"
    }
   ],
   "source": [
    "frame.index.set_names(['A','B'],inplace=True)\n",
    "frame.head()"
   ]
  }
 ],
 "metadata": {
  "kernelspec": {
   "display_name": "Python 3 (ipykernel)",
   "language": "python",
   "name": "python3"
  },
  "language_info": {
   "codemirror_mode": {
    "name": "ipython",
    "version": 3
   },
   "file_extension": ".py",
   "mimetype": "text/x-python",
   "name": "python",
   "nbconvert_exporter": "python",
   "pygments_lexer": "ipython3",
   "version": "3.9.7"
  }
 },
 "nbformat": 4,
 "nbformat_minor": 5
}
