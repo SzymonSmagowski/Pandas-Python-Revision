{
 "cells": [
  {
   "cell_type": "code",
   "execution_count": 1,
   "id": "960f2a8a",
   "metadata": {},
   "outputs": [
    {
     "name": "stdout",
     "output_type": "stream",
     "text": [
      "wj\n"
     ]
    }
   ],
   "source": [
    "print(\"wj\")"
   ]
  },
  {
   "cell_type": "code",
   "execution_count": 3,
   "id": "3b95eaa1",
   "metadata": {},
   "outputs": [
    {
     "name": "stdout",
     "output_type": "stream",
     "text": [
      "escape - enter, a - empty ebove,b - belowdd - delete cell\n"
     ]
    }
   ],
   "source": [
    "print(\"escape - enter, a - empty ebove,b - belowdd - delete cell\")"
   ]
  },
  {
   "cell_type": "markdown",
   "id": "32c0c7fd",
   "metadata": {},
   "source": [
    "# We learn python"
   ]
  },
  {
   "cell_type": "code",
   "execution_count": 5,
   "id": "67978698",
   "metadata": {},
   "outputs": [
    {
     "name": "stdout",
     "output_type": "stream",
     "text": [
      "x , merging shift+m, splitting - ctr + shift + '-', pasting\n",
      "merged\n"
     ]
    }
   ],
   "source": [
    "print(\"x , mergingbshift+m, splitting - ctr + shift + '-', pasting\")\n",
    "\n",
    "print(\"merged\")"
   ]
  },
  {
   "cell_type": "code",
   "execution_count": 6,
   "id": "34ce8584",
   "metadata": {},
   "outputs": [
    {
     "name": "stdout",
     "output_type": "stream",
     "text": [
      "o - output hide, l - lines, shift+l all lines\n"
     ]
    }
   ],
   "source": [
    "print(\"o - output hide, l - lines, shift+l all lines\")"
   ]
  },
  {
   "cell_type": "code",
   "execution_count": 7,
   "id": "f15287b4",
   "metadata": {},
   "outputs": [
    {
     "name": "stdout",
     "output_type": "stream",
     "text": [
      "y - code again, h - help all shortcuts\n"
     ]
    }
   ],
   "source": [
    "print(\"y - code again, h - help all shortcuts\")"
   ]
  },
  {
   "cell_type": "markdown",
   "id": "de7b4b1b",
   "metadata": {},
   "source": [
    "# Big\n",
    "## small\n",
    "### smaller '#' signs\n",
    "normal\n",
    "\n",
    "Points from '-':\n",
    "- p\n",
    "- k\n",
    "- l\n",
    "\n",
    "Lub:\n",
    "1. gr\n",
    "2. gr\n",
    "\n",
    "*curved* '*'\n",
    "\n",
    "\n",
    "**fat**\n",
    "\n",
    "'**'\n",
    "\n",
    "in '[]' underline and inside () link to website\n",
    "\n",
    "[google](https://www.google.com/)\n",
    "\n",
    "images the same but \n",
    "'!'\n",
    "before"
   ]
  }
 ],
 "metadata": {
  "kernelspec": {
   "display_name": "Python 3 (ipykernel)",
   "language": "python",
   "name": "python3"
  },
  "language_info": {
   "codemirror_mode": {
    "name": "ipython",
    "version": 3
   },
   "file_extension": ".py",
   "mimetype": "text/x-python",
   "name": "python",
   "nbconvert_exporter": "python",
   "pygments_lexer": "ipython3",
   "version": "3.9.7"
  }
 },
 "nbformat": 4,
 "nbformat_minor": 5
}
