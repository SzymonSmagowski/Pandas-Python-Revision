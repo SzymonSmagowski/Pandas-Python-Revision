{
 "cells": [
  {
   "cell_type": "code",
   "execution_count": 1,
   "id": "3c81de60",
   "metadata": {},
   "outputs": [],
   "source": [
    "import pandas as pd\n",
    "import numpy as np\n",
    "import matplotlib.pyplot as plt\n",
    "import math as math"
   ]
  },
  {
   "cell_type": "code",
   "execution_count": 6,
   "id": "924a0865",
   "metadata": {},
   "outputs": [],
   "source": [
    "pok = pd.read_csv('./pokemon.csv',usecols=['Name','Attack'],index_col='Name',squeeze=True)"
   ]
  },
  {
   "cell_type": "code",
   "execution_count": 7,
   "id": "f80d78f0",
   "metadata": {},
   "outputs": [
    {
     "data": {
      "text/plain": [
       "Name\n",
       "Bulbasaur                 49\n",
       "Ivysaur                   62\n",
       "Venusaur                  82\n",
       "VenusaurMega Venusaur    100\n",
       "Charmander                52\n",
       "Name: Attack, dtype: int64"
      ]
     },
     "execution_count": 7,
     "metadata": {},
     "output_type": "execute_result"
    }
   ],
   "source": [
    "pok.head()"
   ]
  },
  {
   "cell_type": "code",
   "execution_count": 8,
   "id": "d918a5a0",
   "metadata": {},
   "outputs": [
    {
     "data": {
      "text/plain": [
       "800"
      ]
     },
     "execution_count": 8,
     "metadata": {},
     "output_type": "execute_result"
    }
   ],
   "source": [
    "pok.count()"
   ]
  },
  {
   "cell_type": "code",
   "execution_count": 9,
   "id": "9abce169",
   "metadata": {},
   "outputs": [],
   "source": [
    "pokType = pd.read_csv('./pokemon.csv',usecols=['Name','Type 2'],index_col='Name',squeeze=True)"
   ]
  },
  {
   "cell_type": "code",
   "execution_count": 10,
   "id": "d0449f07",
   "metadata": {},
   "outputs": [
    {
     "data": {
      "text/plain": [
       "Name\n",
       "Bulbasaur                Poison\n",
       "Ivysaur                  Poison\n",
       "Venusaur                 Poison\n",
       "VenusaurMega Venusaur    Poison\n",
       "Charmander                  NaN\n",
       "Name: Type 2, dtype: object"
      ]
     },
     "execution_count": 10,
     "metadata": {},
     "output_type": "execute_result"
    }
   ],
   "source": [
    "pokType.head()"
   ]
  },
  {
   "cell_type": "code",
   "execution_count": 11,
   "id": "27dd1890",
   "metadata": {},
   "outputs": [
    {
     "data": {
      "text/plain": [
       "Flying      97\n",
       "Ground      35\n",
       "Poison      34\n",
       "Psychic     33\n",
       "Fighting    26\n",
       "Grass       25\n",
       "Fairy       23\n",
       "Steel       22\n",
       "Dark        20\n",
       "Dragon      18\n",
       "Water       14\n",
       "Ghost       14\n",
       "Ice         14\n",
       "Rock        14\n",
       "Fire        12\n",
       "Electric     6\n",
       "Normal       4\n",
       "Bug          3\n",
       "Name: Type 2, dtype: int64"
      ]
     },
     "execution_count": 11,
     "metadata": {},
     "output_type": "execute_result"
    }
   ],
   "source": [
    "pokType.value_counts()"
   ]
  },
  {
   "cell_type": "code",
   "execution_count": 12,
   "id": "a618ef06",
   "metadata": {},
   "outputs": [
    {
     "data": {
      "text/plain": [
       "'Chansey'"
      ]
     },
     "execution_count": 12,
     "metadata": {},
     "output_type": "execute_result"
    }
   ],
   "source": [
    "pok.idxmin() # - on what index there is min value"
   ]
  },
  {
   "cell_type": "code",
   "execution_count": 13,
   "id": "cc4ecadc",
   "metadata": {},
   "outputs": [
    {
     "data": {
      "text/plain": [
       "'MewtwoMega Mewtwo X'"
      ]
     },
     "execution_count": 13,
     "metadata": {},
     "output_type": "execute_result"
    }
   ],
   "source": [
    "pok.idxmax()"
   ]
  },
  {
   "cell_type": "code",
   "execution_count": 14,
   "id": "788f0274",
   "metadata": {},
   "outputs": [
    {
     "data": {
      "text/plain": [
       "5"
      ]
     },
     "execution_count": 14,
     "metadata": {},
     "output_type": "execute_result"
    }
   ],
   "source": [
    "pok.loc[pok.idxmin()]"
   ]
  },
  {
   "cell_type": "code",
   "execution_count": 15,
   "id": "b46d57eb",
   "metadata": {},
   "outputs": [
    {
     "data": {
      "text/plain": [
       "79.00125"
      ]
     },
     "execution_count": 15,
     "metadata": {},
     "output_type": "execute_result"
    }
   ],
   "source": [
    "pok.sum()/pok.count()"
   ]
  },
  {
   "cell_type": "code",
   "execution_count": 16,
   "id": "7c65cbd5",
   "metadata": {},
   "outputs": [
    {
     "data": {
      "text/plain": [
       "79.00125"
      ]
     },
     "execution_count": 16,
     "metadata": {},
     "output_type": "execute_result"
    }
   ],
   "source": [
    "pok.mean()"
   ]
  },
  {
   "cell_type": "code",
   "execution_count": 17,
   "id": "2b4be30c",
   "metadata": {},
   "outputs": [
    {
     "data": {
      "text/plain": [
       "75.0"
      ]
     },
     "execution_count": 17,
     "metadata": {},
     "output_type": "execute_result"
    }
   ],
   "source": [
    "pok.median()"
   ]
  },
  {
   "cell_type": "code",
   "execution_count": 18,
   "id": "2a967e2b",
   "metadata": {},
   "outputs": [
    {
     "data": {
      "text/plain": [
       "32.45736586949843"
      ]
     },
     "execution_count": 18,
     "metadata": {},
     "output_type": "execute_result"
    }
   ],
   "source": [
    "pok.std()"
   ]
  },
  {
   "cell_type": "markdown",
   "id": "2ac5716a",
   "metadata": {},
   "source": [
    "# Modyfying:"
   ]
  },
  {
   "cell_type": "code",
   "execution_count": 19,
   "id": "d9a70c0c",
   "metadata": {},
   "outputs": [
    {
     "data": {
      "text/plain": [
       "Name\n",
       "Bulbasaur                 49\n",
       "Ivysaur                   62\n",
       "Venusaur                  82\n",
       "VenusaurMega Venusaur    100\n",
       "Charmander                52\n",
       "Name: Attack, dtype: int64"
      ]
     },
     "execution_count": 19,
     "metadata": {},
     "output_type": "execute_result"
    }
   ],
   "source": [
    "pok.head()"
   ]
  },
  {
   "cell_type": "code",
   "execution_count": 20,
   "id": "aa455008",
   "metadata": {},
   "outputs": [],
   "source": [
    "pok100 = pok * 100"
   ]
  },
  {
   "cell_type": "code",
   "execution_count": 21,
   "id": "e7323694",
   "metadata": {},
   "outputs": [
    {
     "data": {
      "text/plain": [
       "Name\n",
       "Bulbasaur                 4900\n",
       "Ivysaur                   6200\n",
       "Venusaur                  8200\n",
       "VenusaurMega Venusaur    10000\n",
       "Charmander                5200\n",
       "Name: Attack, dtype: int64"
      ]
     },
     "execution_count": 21,
     "metadata": {},
     "output_type": "execute_result"
    }
   ],
   "source": [
    "pok100.head()"
   ]
  },
  {
   "cell_type": "code",
   "execution_count": 24,
   "id": "242311ad",
   "metadata": {},
   "outputs": [],
   "source": [
    "pok = pd.read_csv('./pokemon.csv',usecols=['Name','Type 1'],index_col='Name',squeeze=True)"
   ]
  },
  {
   "cell_type": "code",
   "execution_count": 25,
   "id": "a5e2cc2d",
   "metadata": {},
   "outputs": [
    {
     "data": {
      "text/plain": [
       "Name\n",
       "Bulbasaur                Grass\n",
       "Ivysaur                  Grass\n",
       "Venusaur                 Grass\n",
       "VenusaurMega Venusaur    Grass\n",
       "Charmander                Fire\n",
       "Name: Type 1, dtype: object"
      ]
     },
     "execution_count": 25,
     "metadata": {},
     "output_type": "execute_result"
    }
   ],
   "source": [
    "pok.head()"
   ]
  },
  {
   "cell_type": "code",
   "execution_count": 26,
   "id": "7cc79dc1",
   "metadata": {},
   "outputs": [
    {
     "data": {
      "text/plain": [
       "Name\n",
       "Bulbasaur                  GRASS\n",
       "Ivysaur                    GRASS\n",
       "Venusaur                   GRASS\n",
       "VenusaurMega Venusaur      GRASS\n",
       "Charmander                  FIRE\n",
       "                          ...   \n",
       "Diancie                     ROCK\n",
       "DiancieMega Diancie         ROCK\n",
       "HoopaHoopa Confined      PSYCHIC\n",
       "HoopaHoopa Unbound       PSYCHIC\n",
       "Volcanion                   FIRE\n",
       "Name: Type 1, Length: 800, dtype: object"
      ]
     },
     "execution_count": 26,
     "metadata": {},
     "output_type": "execute_result"
    }
   ],
   "source": [
    "pok.str.upper()"
   ]
  },
  {
   "cell_type": "code",
   "execution_count": 27,
   "id": "7a88fcd8",
   "metadata": {},
   "outputs": [],
   "source": [
    "pokWithType = \"TYPE: \" + pok.str.upper()"
   ]
  },
  {
   "cell_type": "code",
   "execution_count": 28,
   "id": "edbdb6a8",
   "metadata": {},
   "outputs": [
    {
     "data": {
      "text/plain": [
       "Name\n",
       "Bulbasaur                TYPE: GRASS\n",
       "Ivysaur                  TYPE: GRASS\n",
       "Venusaur                 TYPE: GRASS\n",
       "VenusaurMega Venusaur    TYPE: GRASS\n",
       "Charmander                TYPE: FIRE\n",
       "Name: Type 1, dtype: object"
      ]
     },
     "execution_count": 28,
     "metadata": {},
     "output_type": "execute_result"
    }
   ],
   "source": [
    "pokWithType.head()"
   ]
  },
  {
   "cell_type": "code",
   "execution_count": 29,
   "id": "a686ee8d",
   "metadata": {},
   "outputs": [
    {
     "data": {
      "text/plain": [
       "Water       112\n",
       "Normal       98\n",
       "Grass        70\n",
       "Bug          69\n",
       "Psychic      57\n",
       "Fire         52\n",
       "Electric     44\n",
       "Rock         44\n",
       "Dragon       32\n",
       "Ground       32\n",
       "Ghost        32\n",
       "Dark         31\n",
       "Poison       28\n",
       "Steel        27\n",
       "Fighting     27\n",
       "Ice          24\n",
       "Fairy        17\n",
       "Flying        4\n",
       "Name: Type 1, dtype: int64"
      ]
     },
     "execution_count": 29,
     "metadata": {},
     "output_type": "execute_result"
    }
   ],
   "source": [
    "pok.value_counts()"
   ]
  },
  {
   "cell_type": "code",
   "execution_count": 30,
   "id": "b69fb95a",
   "metadata": {},
   "outputs": [],
   "source": [
    "def ReplaceType(oldType):\n",
    "    if oldType == \"Grass\" or oldType ==\"Ground\":\n",
    "        return \"Nature\"\n",
    "    else:\n",
    "        return oldType"
   ]
  },
  {
   "cell_type": "code",
   "execution_count": 31,
   "id": "e5cb1280",
   "metadata": {},
   "outputs": [
    {
     "data": {
      "text/plain": [
       "'Fire'"
      ]
     },
     "execution_count": 31,
     "metadata": {},
     "output_type": "execute_result"
    }
   ],
   "source": [
    "ReplaceType('Fire')"
   ]
  },
  {
   "cell_type": "code",
   "execution_count": 32,
   "id": "09b217f5",
   "metadata": {},
   "outputs": [
    {
     "data": {
      "text/plain": [
       "'Nature'"
      ]
     },
     "execution_count": 32,
     "metadata": {},
     "output_type": "execute_result"
    }
   ],
   "source": [
    "ReplaceType('Grass')"
   ]
  },
  {
   "cell_type": "markdown",
   "id": "d364f6dd",
   "metadata": {},
   "source": [
    "## If we want to use a function for every element of function we have to use 'apply' function"
   ]
  },
  {
   "cell_type": "code",
   "execution_count": 34,
   "id": "b2ca4a1c",
   "metadata": {},
   "outputs": [],
   "source": [
    "pokNature = pok.apply(ReplaceType)"
   ]
  },
  {
   "cell_type": "code",
   "execution_count": 35,
   "id": "9fd34fed",
   "metadata": {},
   "outputs": [
    {
     "data": {
      "text/plain": [
       "Water       112\n",
       "Nature      102\n",
       "Normal       98\n",
       "Bug          69\n",
       "Psychic      57\n",
       "Fire         52\n",
       "Electric     44\n",
       "Rock         44\n",
       "Dragon       32\n",
       "Ghost        32\n",
       "Dark         31\n",
       "Poison       28\n",
       "Steel        27\n",
       "Fighting     27\n",
       "Ice          24\n",
       "Fairy        17\n",
       "Flying        4\n",
       "Name: Type 1, dtype: int64"
      ]
     },
     "execution_count": 35,
     "metadata": {},
     "output_type": "execute_result"
    }
   ],
   "source": [
    "pokNature.value_counts()"
   ]
  },
  {
   "cell_type": "markdown",
   "id": "3c5af557",
   "metadata": {},
   "source": [
    "## Or we can use lambda funtion"
   ]
  },
  {
   "cell_type": "code",
   "execution_count": 36,
   "id": "2c971301",
   "metadata": {},
   "outputs": [
    {
     "data": {
      "text/plain": [
       "Name\n",
       "Bulbasaur                  GRASS\n",
       "Ivysaur                    GRASS\n",
       "Venusaur                   GRASS\n",
       "VenusaurMega Venusaur      GRASS\n",
       "Charmander                  FIRE\n",
       "                          ...   \n",
       "Diancie                     ROCK\n",
       "DiancieMega Diancie         ROCK\n",
       "HoopaHoopa Confined      PSYCHIC\n",
       "HoopaHoopa Unbound       PSYCHIC\n",
       "Volcanion                   FIRE\n",
       "Name: Type 1, Length: 800, dtype: object"
      ]
     },
     "execution_count": 36,
     "metadata": {},
     "output_type": "execute_result"
    }
   ],
   "source": [
    "pok.apply(lambda aText: aText.upper())"
   ]
  },
  {
   "cell_type": "code",
   "execution_count": 38,
   "id": "a3d74eb5",
   "metadata": {},
   "outputs": [],
   "source": [
    "pokNature2 = pok.apply(lambda x: \"Nature\" if x==\"Grass\" or x==\"Ground\" else x)"
   ]
  },
  {
   "cell_type": "code",
   "execution_count": 39,
   "id": "89555b81",
   "metadata": {},
   "outputs": [
    {
     "data": {
      "text/plain": [
       "Water       112\n",
       "Nature      102\n",
       "Normal       98\n",
       "Bug          69\n",
       "Psychic      57\n",
       "Fire         52\n",
       "Electric     44\n",
       "Rock         44\n",
       "Dragon       32\n",
       "Ghost        32\n",
       "Dark         31\n",
       "Poison       28\n",
       "Steel        27\n",
       "Fighting     27\n",
       "Ice          24\n",
       "Fairy        17\n",
       "Flying        4\n",
       "Name: Type 1, dtype: int64"
      ]
     },
     "execution_count": 39,
     "metadata": {},
     "output_type": "execute_result"
    }
   ],
   "source": [
    "pokNature2.value_counts()"
   ]
  },
  {
   "cell_type": "markdown",
   "id": "5e73d047",
   "metadata": {},
   "source": [
    "# Map function - join basically"
   ]
  },
  {
   "cell_type": "code",
   "execution_count": 40,
   "id": "85f3052d",
   "metadata": {},
   "outputs": [
    {
     "data": {
      "text/plain": [
       "Andy       5\n",
       "Bob        3\n",
       "Chris      2\n",
       "Dirk       4\n",
       "Francis    3\n",
       "George     4\n",
       "Henry      4\n",
       "Ivan       5\n",
       "dtype: int64"
      ]
     },
     "execution_count": 40,
     "metadata": {},
     "output_type": "execute_result"
    }
   ],
   "source": [
    "team = pd.Series(data=[5,3,2,4,3,4,4,5],index=['Andy','Bob','Chris','Dirk','Francis','George','Henry','Ivan'])\n",
    "team"
   ]
  },
  {
   "cell_type": "code",
   "execution_count": 45,
   "id": "85333169",
   "metadata": {},
   "outputs": [
    {
     "data": {
      "text/plain": [
       "1      C\n",
       "2      B\n",
       "3      A\n",
       "4     A+\n",
       "5    A++\n",
       "dtype: object"
      ]
     },
     "execution_count": 45,
     "metadata": {},
     "output_type": "execute_result"
    }
   ],
   "source": [
    "notes = pd.Series(data=['C','B','A','A+','A++'],index=[1,2,3,4,5])\n",
    "notes"
   ]
  },
  {
   "cell_type": "code",
   "execution_count": 46,
   "id": "314e779a",
   "metadata": {},
   "outputs": [
    {
     "data": {
      "text/plain": [
       "Andy       A++\n",
       "Bob          A\n",
       "Chris        B\n",
       "Dirk        A+\n",
       "Francis      A\n",
       "George      A+\n",
       "Henry       A+\n",
       "Ivan       A++\n",
       "dtype: object"
      ]
     },
     "execution_count": 46,
     "metadata": {},
     "output_type": "execute_result"
    }
   ],
   "source": [
    "team.map(notes)"
   ]
  }
 ],
 "metadata": {
  "kernelspec": {
   "display_name": "Python 3 (ipykernel)",
   "language": "python",
   "name": "python3"
  },
  "language_info": {
   "codemirror_mode": {
    "name": "ipython",
    "version": 3
   },
   "file_extension": ".py",
   "mimetype": "text/x-python",
   "name": "python",
   "nbconvert_exporter": "python",
   "pygments_lexer": "ipython3",
   "version": "3.9.7"
  }
 },
 "nbformat": 4,
 "nbformat_minor": 5
}
