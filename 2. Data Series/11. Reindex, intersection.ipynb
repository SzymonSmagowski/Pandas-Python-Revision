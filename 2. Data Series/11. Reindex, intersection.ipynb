{
 "cells": [
  {
   "cell_type": "code",
   "execution_count": 1,
   "id": "b0a484b1",
   "metadata": {},
   "outputs": [],
   "source": [
    "import pandas as pd\n",
    "import numpy as np\n",
    "import matplotlib.pyplot as plt\n",
    "import math as math"
   ]
  },
  {
   "cell_type": "code",
   "execution_count": 3,
   "id": "23225ba0",
   "metadata": {},
   "outputs": [
    {
     "data": {
      "text/plain": [
       "a     Austria\n",
       "b     Belgium\n",
       "c      Canada\n",
       "d     Denmark\n",
       "e1    England\n",
       "e2    Estonia\n",
       "dtype: object"
      ]
     },
     "execution_count": 3,
     "metadata": {},
     "output_type": "execute_result"
    }
   ],
   "source": [
    "index = ['a','b','c','d','e1','e2']\n",
    "values = ['Austria','Belgium','Canada','Denmark','England','Estonia']\n",
    "s= pd.Series(values,index)\n",
    "s"
   ]
  },
  {
   "cell_type": "code",
   "execution_count": 4,
   "id": "2897aedc",
   "metadata": {},
   "outputs": [],
   "source": [
    "searchList = ['a','b']"
   ]
  },
  {
   "cell_type": "code",
   "execution_count": 5,
   "id": "e37903fe",
   "metadata": {},
   "outputs": [
    {
     "data": {
      "text/plain": [
       "a    Austria\n",
       "b    Belgium\n",
       "dtype: object"
      ]
     },
     "execution_count": 5,
     "metadata": {},
     "output_type": "execute_result"
    }
   ],
   "source": [
    "s.loc[searchList]"
   ]
  },
  {
   "cell_type": "code",
   "execution_count": 6,
   "id": "91c80f5a",
   "metadata": {},
   "outputs": [],
   "source": [
    "searchListNotFound = ['a','b','f']"
   ]
  },
  {
   "cell_type": "code",
   "execution_count": 8,
   "id": "86b7fb0e",
   "metadata": {},
   "outputs": [],
   "source": [
    "# s.loc[searchListNotFound] - error, element not found"
   ]
  },
  {
   "cell_type": "code",
   "execution_count": 10,
   "id": "b214ff84",
   "metadata": {},
   "outputs": [
    {
     "data": {
      "text/plain": [
       "a    Austria\n",
       "b    Belgium\n",
       "dtype: object"
      ]
     },
     "execution_count": 10,
     "metadata": {},
     "output_type": "execute_result"
    }
   ],
   "source": [
    "s.reindex(searchList)"
   ]
  },
  {
   "cell_type": "code",
   "execution_count": 12,
   "id": "36433088",
   "metadata": {},
   "outputs": [
    {
     "data": {
      "text/plain": [
       "a    Austria\n",
       "b    Belgium\n",
       "f        NaN\n",
       "dtype: object"
      ]
     },
     "execution_count": 12,
     "metadata": {},
     "output_type": "execute_result"
    }
   ],
   "source": [
    "s.reindex(searchListNotFound) # no error here - we have NaN value"
   ]
  },
  {
   "cell_type": "code",
   "execution_count": 14,
   "id": "7197ed3a",
   "metadata": {},
   "outputs": [
    {
     "data": {
      "text/plain": [
       "Index(['a', 'b'], dtype='object')"
      ]
     },
     "execution_count": 14,
     "metadata": {},
     "output_type": "execute_result"
    }
   ],
   "source": [
    "# intersection outputs elements that are in both lists\n",
    "s.index.intersection(searchListNotFound)"
   ]
  },
  {
   "cell_type": "code",
   "execution_count": 15,
   "id": "730819d3",
   "metadata": {},
   "outputs": [
    {
     "data": {
      "text/plain": [
       "a    Austria\n",
       "b    Belgium\n",
       "dtype: object"
      ]
     },
     "execution_count": 15,
     "metadata": {},
     "output_type": "execute_result"
    }
   ],
   "source": [
    "s.loc[s.index.intersection(searchListNotFound)]"
   ]
  },
  {
   "cell_type": "markdown",
   "id": "9ace17f4",
   "metadata": {},
   "source": [
    "### If there is a duplicate in array then: reindex doesnt work, and intersection works 'twice'"
   ]
  }
 ],
 "metadata": {
  "kernelspec": {
   "display_name": "Python 3 (ipykernel)",
   "language": "python",
   "name": "python3"
  },
  "language_info": {
   "codemirror_mode": {
    "name": "ipython",
    "version": 3
   },
   "file_extension": ".py",
   "mimetype": "text/x-python",
   "name": "python",
   "nbconvert_exporter": "python",
   "pygments_lexer": "ipython3",
   "version": "3.9.7"
  }
 },
 "nbformat": 4,
 "nbformat_minor": 5
}
