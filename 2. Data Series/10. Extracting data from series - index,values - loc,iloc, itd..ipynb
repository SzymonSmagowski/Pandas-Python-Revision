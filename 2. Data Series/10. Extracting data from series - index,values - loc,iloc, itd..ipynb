{
 "cells": [
  {
   "cell_type": "code",
   "execution_count": 1,
   "id": "f9bb2e07",
   "metadata": {},
   "outputs": [],
   "source": [
    "import pandas as pd\n",
    "import numpy as np\n",
    "import matplotlib.pyplot as plt\n",
    "import math as math\n",
    "\n",
    "pok = pd.read_csv(\"./pokemon.csv\",usecols=['Name'], squeeze=True)"
   ]
  },
  {
   "cell_type": "markdown",
   "id": "c09f2819",
   "metadata": {},
   "source": [
    "# Index:"
   ]
  },
  {
   "cell_type": "code",
   "execution_count": 2,
   "id": "3f9095c9",
   "metadata": {},
   "outputs": [
    {
     "data": {
      "text/plain": [
       "'Machoke'"
      ]
     },
     "execution_count": 2,
     "metadata": {},
     "output_type": "execute_result"
    }
   ],
   "source": [
    "pok[73]"
   ]
  },
  {
   "cell_type": "code",
   "execution_count": 3,
   "id": "1f0a6bcd",
   "metadata": {},
   "outputs": [
    {
     "data": {
      "text/plain": [
       "64    Arcanine\n",
       "73     Machoke\n",
       "Name: Name, dtype: object"
      ]
     },
     "execution_count": 3,
     "metadata": {},
     "output_type": "execute_result"
    }
   ],
   "source": [
    "# pok[63,73] - error\n",
    "pok[[64,73]]"
   ]
  },
  {
   "cell_type": "code",
   "execution_count": 4,
   "id": "99b31399",
   "metadata": {},
   "outputs": [
    {
     "data": {
      "text/plain": [
       "2                 Venusaur\n",
       "3    VenusaurMega Venusaur\n",
       "4               Charmander\n",
       "5               Charmeleon\n",
       "6                Charizard\n",
       "Name: Name, dtype: object"
      ]
     },
     "execution_count": 4,
     "metadata": {},
     "output_type": "execute_result"
    }
   ],
   "source": [
    "pok[2:7]"
   ]
  },
  {
   "cell_type": "code",
   "execution_count": 5,
   "id": "1626825a",
   "metadata": {},
   "outputs": [
    {
     "data": {
      "text/plain": [
       "798    HoopaHoopa Unbound\n",
       "799             Volcanion\n",
       "Name: Name, dtype: object"
      ]
     },
     "execution_count": 5,
     "metadata": {},
     "output_type": "execute_result"
    }
   ],
   "source": [
    "pok[-2:]"
   ]
  },
  {
   "cell_type": "code",
   "execution_count": 6,
   "id": "fc52d425",
   "metadata": {},
   "outputs": [
    {
     "data": {
      "text/plain": [
       "796    DiancieMega Diancie\n",
       "797    HoopaHoopa Confined\n",
       "798     HoopaHoopa Unbound\n",
       "799              Volcanion\n",
       "Name: Name, dtype: object"
      ]
     },
     "execution_count": 6,
     "metadata": {},
     "output_type": "execute_result"
    }
   ],
   "source": [
    "pok[796:]"
   ]
  },
  {
   "cell_type": "code",
   "execution_count": 7,
   "id": "f2dae5ed",
   "metadata": {},
   "outputs": [
    {
     "data": {
      "text/plain": [
       "0                Bulbasaur\n",
       "1                  Ivysaur\n",
       "2                 Venusaur\n",
       "3    VenusaurMega Venusaur\n",
       "Name: Name, dtype: object"
      ]
     },
     "execution_count": 7,
     "metadata": {},
     "output_type": "execute_result"
    }
   ],
   "source": [
    "pok[:4]"
   ]
  },
  {
   "cell_type": "markdown",
   "id": "362bff1d",
   "metadata": {},
   "source": [
    "# Values:\n",
    "# i - position search"
   ]
  },
  {
   "cell_type": "code",
   "execution_count": 9,
   "id": "960e8ff6",
   "metadata": {},
   "outputs": [
    {
     "data": {
      "text/plain": [
       "a    Austria\n",
       "b    Belgium\n",
       "c     Canada\n",
       "d    Denmark\n",
       "e    England\n",
       "e    Estonia\n",
       "dtype: object"
      ]
     },
     "execution_count": 9,
     "metadata": {},
     "output_type": "execute_result"
    }
   ],
   "source": [
    "index = ['a','b','c','d','e','e']\n",
    "values = ['Austria','Belgium','Canada','Denmark','England','Estonia']\n",
    "s= pd.Series(values,index)\n",
    "s"
   ]
  },
  {
   "cell_type": "markdown",
   "id": "67bf7139",
   "metadata": {},
   "source": [
    "### []"
   ]
  },
  {
   "cell_type": "code",
   "execution_count": 10,
   "id": "2c59d837",
   "metadata": {},
   "outputs": [
    {
     "data": {
      "text/plain": [
       "'Belgium'"
      ]
     },
     "execution_count": 10,
     "metadata": {},
     "output_type": "execute_result"
    }
   ],
   "source": [
    "s[1]"
   ]
  },
  {
   "cell_type": "code",
   "execution_count": 12,
   "id": "e3ec5b89",
   "metadata": {},
   "outputs": [
    {
     "data": {
      "text/plain": [
       "'Belgium'"
      ]
     },
     "execution_count": 12,
     "metadata": {},
     "output_type": "execute_result"
    }
   ],
   "source": [
    "s['b']"
   ]
  },
  {
   "cell_type": "code",
   "execution_count": 13,
   "id": "f04e2343",
   "metadata": {},
   "outputs": [
    {
     "data": {
      "text/plain": [
       "e    England\n",
       "e    Estonia\n",
       "dtype: object"
      ]
     },
     "execution_count": 13,
     "metadata": {},
     "output_type": "execute_result"
    }
   ],
   "source": [
    "s['e']"
   ]
  },
  {
   "cell_type": "code",
   "execution_count": 43,
   "id": "5d1ddeb4",
   "metadata": {},
   "outputs": [],
   "source": [
    "# s['f'] - error, doesnt exist"
   ]
  },
  {
   "cell_type": "code",
   "execution_count": 16,
   "id": "ed5fd08a",
   "metadata": {},
   "outputs": [
    {
     "data": {
      "text/plain": [
       "'Belgium'"
      ]
     },
     "execution_count": 16,
     "metadata": {},
     "output_type": "execute_result"
    }
   ],
   "source": [
    "s.get(1)"
   ]
  },
  {
   "cell_type": "markdown",
   "id": "eb0bc725",
   "metadata": {},
   "source": [
    "### get()"
   ]
  },
  {
   "cell_type": "code",
   "execution_count": 17,
   "id": "d135c951",
   "metadata": {},
   "outputs": [
    {
     "data": {
      "text/plain": [
       "'Belgium'"
      ]
     },
     "execution_count": 17,
     "metadata": {},
     "output_type": "execute_result"
    }
   ],
   "source": [
    "s.get('b')"
   ]
  },
  {
   "cell_type": "code",
   "execution_count": 18,
   "id": "092b1de7",
   "metadata": {},
   "outputs": [
    {
     "data": {
      "text/plain": [
       "e    England\n",
       "e    Estonia\n",
       "dtype: object"
      ]
     },
     "execution_count": 18,
     "metadata": {},
     "output_type": "execute_result"
    }
   ],
   "source": [
    "s.get('e')"
   ]
  },
  {
   "cell_type": "code",
   "execution_count": 19,
   "id": "bc50b95c",
   "metadata": {},
   "outputs": [],
   "source": [
    "s.get('f')"
   ]
  },
  {
   "cell_type": "markdown",
   "id": "ba88b275",
   "metadata": {},
   "source": [
    "### at[]"
   ]
  },
  {
   "cell_type": "code",
   "execution_count": 44,
   "id": "cc8a830a",
   "metadata": {},
   "outputs": [],
   "source": [
    "# s.at[1] - error, cant index"
   ]
  },
  {
   "cell_type": "code",
   "execution_count": 22,
   "id": "e740ae15",
   "metadata": {},
   "outputs": [
    {
     "data": {
      "text/plain": [
       "'Belgium'"
      ]
     },
     "execution_count": 22,
     "metadata": {},
     "output_type": "execute_result"
    }
   ],
   "source": [
    "s.at['b']"
   ]
  },
  {
   "cell_type": "code",
   "execution_count": 23,
   "id": "51603cb6",
   "metadata": {},
   "outputs": [
    {
     "data": {
      "text/plain": [
       "e    England\n",
       "e    Estonia\n",
       "dtype: object"
      ]
     },
     "execution_count": 23,
     "metadata": {},
     "output_type": "execute_result"
    }
   ],
   "source": [
    "s.at['e']"
   ]
  },
  {
   "cell_type": "code",
   "execution_count": 45,
   "id": "88fdc4a3",
   "metadata": {},
   "outputs": [],
   "source": [
    "# s.at['f'] - error, doesnt exist"
   ]
  },
  {
   "cell_type": "markdown",
   "id": "07639591",
   "metadata": {},
   "source": [
    "### iat[]"
   ]
  },
  {
   "cell_type": "code",
   "execution_count": 27,
   "id": "9afb6dab",
   "metadata": {},
   "outputs": [
    {
     "data": {
      "text/plain": [
       "'Belgium'"
      ]
     },
     "execution_count": 27,
     "metadata": {},
     "output_type": "execute_result"
    }
   ],
   "source": [
    "s.iat[1]"
   ]
  },
  {
   "cell_type": "code",
   "execution_count": 29,
   "id": "e2a456df",
   "metadata": {},
   "outputs": [],
   "source": [
    "# s.iat['b'] - error, only integer indexes"
   ]
  },
  {
   "cell_type": "code",
   "execution_count": 34,
   "id": "3e2164d9",
   "metadata": {},
   "outputs": [],
   "source": [
    "# s.iat['e'] - same"
   ]
  },
  {
   "cell_type": "code",
   "execution_count": 33,
   "id": "11fa946b",
   "metadata": {},
   "outputs": [],
   "source": [
    "# s.iat[[3,4]] - error, cant multiple values"
   ]
  },
  {
   "cell_type": "code",
   "execution_count": 37,
   "id": "9ead5b35",
   "metadata": {},
   "outputs": [],
   "source": [
    "# s.iat[99] - error, value doesnt exist"
   ]
  },
  {
   "cell_type": "markdown",
   "id": "affac994",
   "metadata": {},
   "source": [
    "# loc[] - index search"
   ]
  },
  {
   "cell_type": "code",
   "execution_count": 39,
   "id": "9ff40df9",
   "metadata": {},
   "outputs": [],
   "source": [
    "# s.loc[1] - error, cant by position"
   ]
  },
  {
   "cell_type": "code",
   "execution_count": 40,
   "id": "c53a3366",
   "metadata": {},
   "outputs": [
    {
     "data": {
      "text/plain": [
       "'Belgium'"
      ]
     },
     "execution_count": 40,
     "metadata": {},
     "output_type": "execute_result"
    }
   ],
   "source": [
    "s.loc['b']"
   ]
  },
  {
   "cell_type": "code",
   "execution_count": 41,
   "id": "c289a4bc",
   "metadata": {},
   "outputs": [
    {
     "data": {
      "text/plain": [
       "e    England\n",
       "e    Estonia\n",
       "dtype: object"
      ]
     },
     "execution_count": 41,
     "metadata": {},
     "output_type": "execute_result"
    }
   ],
   "source": [
    "s.loc['e']"
   ]
  },
  {
   "cell_type": "code",
   "execution_count": 46,
   "id": "0ab56e3b",
   "metadata": {},
   "outputs": [],
   "source": [
    "# s.loc['f'] - error, doesnt exist"
   ]
  },
  {
   "cell_type": "markdown",
   "id": "93874fdb",
   "metadata": {},
   "source": [
    "# iloc[] - index position search"
   ]
  },
  {
   "cell_type": "code",
   "execution_count": 48,
   "id": "53c8797b",
   "metadata": {},
   "outputs": [
    {
     "data": {
      "text/plain": [
       "'Belgium'"
      ]
     },
     "execution_count": 48,
     "metadata": {},
     "output_type": "execute_result"
    }
   ],
   "source": [
    "s.iloc[1]"
   ]
  },
  {
   "cell_type": "code",
   "execution_count": 50,
   "id": "e8e2f1e1",
   "metadata": {},
   "outputs": [],
   "source": [
    "# s.iloc['b'] - error, only integer allowed"
   ]
  },
  {
   "cell_type": "code",
   "execution_count": 51,
   "id": "cc8ce673",
   "metadata": {},
   "outputs": [
    {
     "data": {
      "text/plain": [
       "a    Austria\n",
       "b    Belgium\n",
       "dtype: object"
      ]
     },
     "execution_count": 51,
     "metadata": {},
     "output_type": "execute_result"
    }
   ],
   "source": [
    "s.iloc[[0,1]]"
   ]
  },
  {
   "cell_type": "code",
   "execution_count": 52,
   "id": "5da30e35",
   "metadata": {},
   "outputs": [],
   "source": [
    "# s.iloc[99] - error, position doesnt exist"
   ]
  }
 ],
 "metadata": {
  "kernelspec": {
   "display_name": "Python 3 (ipykernel)",
   "language": "python",
   "name": "python3"
  },
  "language_info": {
   "codemirror_mode": {
    "name": "ipython",
    "version": 3
   },
   "file_extension": ".py",
   "mimetype": "text/x-python",
   "name": "python",
   "nbconvert_exporter": "python",
   "pygments_lexer": "ipython3",
   "version": "3.9.7"
  }
 },
 "nbformat": 4,
 "nbformat_minor": 5
}
