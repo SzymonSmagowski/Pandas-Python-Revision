{
 "cells": [
  {
   "cell_type": "code",
   "execution_count": 10,
   "id": "92a67eca",
   "metadata": {},
   "outputs": [
    {
     "data": {
      "text/plain": [
       "['a', 'b', 'c', 'd']"
      ]
     },
     "execution_count": 10,
     "metadata": {},
     "output_type": "execute_result"
    }
   ],
   "source": [
    "import pandas as pd\n",
    "import numpy as np\n",
    "import matplotlib.pyplot as plt\n",
    "import math as math\n",
    "\n",
    "cities = ['a','b','c','d']\n",
    "\n",
    "\n",
    "cities"
   ]
  },
  {
   "cell_type": "code",
   "execution_count": 11,
   "id": "9ec4ba1b",
   "metadata": {},
   "outputs": [
    {
     "data": {
      "text/plain": [
       "0    a\n",
       "1    b\n",
       "2    c\n",
       "3    d\n",
       "dtype: object"
      ]
     },
     "execution_count": 11,
     "metadata": {},
     "output_type": "execute_result"
    }
   ],
   "source": [
    "pd.Series(cities)"
   ]
  },
  {
   "cell_type": "code",
   "execution_count": 12,
   "id": "dc949a54",
   "metadata": {},
   "outputs": [
    {
     "data": {
      "text/plain": [
       "0    1\n",
       "1    2\n",
       "2    3\n",
       "3    4\n",
       "4    5\n",
       "dtype: int64"
      ]
     },
     "execution_count": 12,
     "metadata": {},
     "output_type": "execute_result"
    }
   ],
   "source": [
    "numbers = (1,2,3,4,5)\n",
    "pd.Series(numbers)"
   ]
  },
  {
   "cell_type": "code",
   "execution_count": 13,
   "id": "840fb4d2",
   "metadata": {},
   "outputs": [
    {
     "data": {
      "text/plain": [
       "0     True\n",
       "1    False\n",
       "dtype: bool"
      ]
     },
     "execution_count": 13,
     "metadata": {},
     "output_type": "execute_result"
    }
   ],
   "source": [
    "logical = [True,False]\n",
    "pd.Series(logical)"
   ]
  },
  {
   "cell_type": "markdown",
   "id": "88df92f9",
   "metadata": {},
   "source": [
    "## Hash table == dictionary"
   ]
  },
  {
   "cell_type": "code",
   "execution_count": 14,
   "id": "4a5ab589",
   "metadata": {},
   "outputs": [
    {
     "data": {
      "text/plain": [
       "{'Jaws': 1975, 'Indiana Jones': 1981}"
      ]
     },
     "execution_count": 14,
     "metadata": {},
     "output_type": "execute_result"
    }
   ],
   "source": [
    "filmography = {'Jaws' : 1975,\n",
    "              'Indiana Jones' : 1981}\n",
    "filmography"
   ]
  },
  {
   "cell_type": "code",
   "execution_count": 15,
   "id": "69c47f3f",
   "metadata": {},
   "outputs": [
    {
     "data": {
      "text/plain": [
       "Jaws             1975\n",
       "Indiana Jones    1981\n",
       "dtype: int64"
      ]
     },
     "execution_count": 15,
     "metadata": {},
     "output_type": "execute_result"
    }
   ],
   "source": [
    "pd.Series(filmography)"
   ]
  },
  {
   "cell_type": "markdown",
   "id": "65543f0e",
   "metadata": {},
   "source": [
    "## Index added - list\n",
    "## index from 1st column - hash table"
   ]
  }
 ],
 "metadata": {
  "kernelspec": {
   "display_name": "Python 3 (ipykernel)",
   "language": "python",
   "name": "python3"
  },
  "language_info": {
   "codemirror_mode": {
    "name": "ipython",
    "version": 3
   },
   "file_extension": ".py",
   "mimetype": "text/x-python",
   "name": "python",
   "nbconvert_exporter": "python",
   "pygments_lexer": "ipython3",
   "version": "3.9.7"
  }
 },
 "nbformat": 4,
 "nbformat_minor": 5
}
