{
 "cells": [
  {
   "cell_type": "code",
   "execution_count": 2,
   "id": "3f7d29d5",
   "metadata": {},
   "outputs": [
    {
     "data": {
      "text/plain": [
       "0     1\n",
       "1     2\n",
       "2     4\n",
       "3    67\n",
       "4    99\n",
       "dtype: int64"
      ]
     },
     "execution_count": 2,
     "metadata": {},
     "output_type": "execute_result"
    }
   ],
   "source": [
    "import pandas as pd\n",
    "import numpy as np\n",
    "import matplotlib.pyplot as plt\n",
    "import math as math\n",
    "\n",
    "monotonicList = (1,2,4,67,99)\n",
    "monSeries = pd.Series(monotonicList)\n",
    "monSeries"
   ]
  },
  {
   "cell_type": "code",
   "execution_count": 3,
   "id": "86e8f31d",
   "metadata": {},
   "outputs": [
    {
     "data": {
      "text/plain": [
       "173"
      ]
     },
     "execution_count": 3,
     "metadata": {},
     "output_type": "execute_result"
    }
   ],
   "source": [
    "monSeries.sum()"
   ]
  },
  {
   "cell_type": "code",
   "execution_count": 4,
   "id": "ed1c6d88",
   "metadata": {},
   "outputs": [
    {
     "data": {
      "text/plain": [
       "1"
      ]
     },
     "execution_count": 4,
     "metadata": {},
     "output_type": "execute_result"
    }
   ],
   "source": [
    "monSeries.min()"
   ]
  },
  {
   "cell_type": "code",
   "execution_count": 5,
   "id": "6af18418",
   "metadata": {},
   "outputs": [
    {
     "data": {
      "text/plain": [
       "99"
      ]
     },
     "execution_count": 5,
     "metadata": {},
     "output_type": "execute_result"
    }
   ],
   "source": [
    "monSeries.max()"
   ]
  },
  {
   "cell_type": "code",
   "execution_count": 7,
   "id": "83610610",
   "metadata": {},
   "outputs": [
    {
     "data": {
      "text/plain": [
       "34.6"
      ]
     },
     "execution_count": 7,
     "metadata": {},
     "output_type": "execute_result"
    }
   ],
   "source": [
    "monSeries.mean()"
   ]
  },
  {
   "cell_type": "code",
   "execution_count": 8,
   "id": "0e213dbc",
   "metadata": {},
   "outputs": [
    {
     "data": {
      "text/plain": [
       "5"
      ]
     },
     "execution_count": 8,
     "metadata": {},
     "output_type": "execute_result"
    }
   ],
   "source": [
    "monSeries.count()"
   ]
  },
  {
   "cell_type": "code",
   "execution_count": 9,
   "id": "26f4a813",
   "metadata": {},
   "outputs": [
    {
     "data": {
      "text/plain": [
       "5"
      ]
     },
     "execution_count": 9,
     "metadata": {},
     "output_type": "execute_result"
    }
   ],
   "source": [
    "monSeries.size"
   ]
  },
  {
   "cell_type": "code",
   "execution_count": 10,
   "id": "8bee31ee",
   "metadata": {},
   "outputs": [
    {
     "data": {
      "text/plain": [
       "53064"
      ]
     },
     "execution_count": 10,
     "metadata": {},
     "output_type": "execute_result"
    }
   ],
   "source": [
    "monSeries.product()"
   ]
  },
  {
   "cell_type": "code",
   "execution_count": 11,
   "id": "6118275b",
   "metadata": {},
   "outputs": [
    {
     "data": {
      "text/plain": [
       "RangeIndex(start=0, stop=5, step=1)"
      ]
     },
     "execution_count": 11,
     "metadata": {},
     "output_type": "execute_result"
    }
   ],
   "source": [
    "monSeries.index"
   ]
  },
  {
   "cell_type": "code",
   "execution_count": 12,
   "id": "fc878321",
   "metadata": {},
   "outputs": [
    {
     "data": {
      "text/plain": [
       "RangeIndex(start=0, stop=5, step=1)"
      ]
     },
     "execution_count": 12,
     "metadata": {},
     "output_type": "execute_result"
    }
   ],
   "source": [
    "monSeries.keys()"
   ]
  },
  {
   "cell_type": "code",
   "execution_count": 13,
   "id": "005271ff",
   "metadata": {},
   "outputs": [
    {
     "data": {
      "text/plain": [
       "array([ 1,  2,  4, 67, 99], dtype=int64)"
      ]
     },
     "execution_count": 13,
     "metadata": {},
     "output_type": "execute_result"
    }
   ],
   "source": [
    "monSeries.values"
   ]
  },
  {
   "cell_type": "code",
   "execution_count": 17,
   "id": "238c5e37",
   "metadata": {},
   "outputs": [
    {
     "data": {
      "text/plain": [
       "[1, 2, 4, 67, 99]"
      ]
     },
     "execution_count": 17,
     "metadata": {},
     "output_type": "execute_result"
    }
   ],
   "source": [
    "monSeries.tolist()"
   ]
  },
  {
   "cell_type": "code",
   "execution_count": 18,
   "id": "1c8fc0ee",
   "metadata": {},
   "outputs": [
    {
     "data": {
      "text/plain": [
       "0     11\n",
       "1     12\n",
       "2     14\n",
       "3     77\n",
       "4    109\n",
       "dtype: int64"
      ]
     },
     "execution_count": 18,
     "metadata": {},
     "output_type": "execute_result"
    }
   ],
   "source": [
    "monSeries.add(10)"
   ]
  },
  {
   "cell_type": "code",
   "execution_count": 19,
   "id": "e2646f27",
   "metadata": {},
   "outputs": [],
   "source": [
    "newSeries = monSeries.add(10)"
   ]
  },
  {
   "cell_type": "code",
   "execution_count": 20,
   "id": "e8d2fccc",
   "metadata": {},
   "outputs": [
    {
     "data": {
      "text/plain": [
       "0     11\n",
       "1     12\n",
       "2     14\n",
       "3     77\n",
       "4    109\n",
       "dtype: int64"
      ]
     },
     "execution_count": 20,
     "metadata": {},
     "output_type": "execute_result"
    }
   ],
   "source": [
    "newSeries"
   ]
  },
  {
   "cell_type": "code",
   "execution_count": 21,
   "id": "0a8e921b",
   "metadata": {},
   "outputs": [],
   "source": [
    "currencies = ['USD','EUR','PLN']\n",
    "countries = ['USA', 'France', 'Poland']"
   ]
  },
  {
   "cell_type": "code",
   "execution_count": 23,
   "id": "6e46970c",
   "metadata": {},
   "outputs": [],
   "source": [
    "curSeries = pd.Series(currencies,countries)"
   ]
  },
  {
   "cell_type": "code",
   "execution_count": 24,
   "id": "d95b78c8",
   "metadata": {},
   "outputs": [
    {
     "data": {
      "text/plain": [
       "USA       USD\n",
       "France    EUR\n",
       "Poland    PLN\n",
       "dtype: object"
      ]
     },
     "execution_count": 24,
     "metadata": {},
     "output_type": "execute_result"
    }
   ],
   "source": [
    "curSeries"
   ]
  },
  {
   "cell_type": "markdown",
   "id": "d9b839b8",
   "metadata": {},
   "source": [
    "## Shift + tab - see description of method"
   ]
  },
  {
   "cell_type": "markdown",
   "id": "578ec07a",
   "metadata": {},
   "source": [
    "# In data series index can have the same value few times!!!"
   ]
  },
  {
   "cell_type": "markdown",
   "id": "7237c5a2",
   "metadata": {},
   "source": [
    "### (In dictionary not)"
   ]
  }
 ],
 "metadata": {
  "kernelspec": {
   "display_name": "Python 3 (ipykernel)",
   "language": "python",
   "name": "python3"
  },
  "language_info": {
   "codemirror_mode": {
    "name": "ipython",
    "version": 3
   },
   "file_extension": ".py",
   "mimetype": "text/x-python",
   "name": "python",
   "nbconvert_exporter": "python",
   "pygments_lexer": "ipython3",
   "version": "3.9.7"
  }
 },
 "nbformat": 4,
 "nbformat_minor": 5
}
