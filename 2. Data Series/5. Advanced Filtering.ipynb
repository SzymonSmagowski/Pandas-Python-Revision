{
 "cells": [
  {
   "cell_type": "code",
   "execution_count": 2,
   "id": "d58c7447",
   "metadata": {},
   "outputs": [
    {
     "data": {
      "text/plain": [
       "0     1\n",
       "1     2\n",
       "2     3\n",
       "3    11\n",
       "4    12\n",
       "5    13\n",
       "dtype: int64"
      ]
     },
     "execution_count": 2,
     "metadata": {},
     "output_type": "execute_result"
    }
   ],
   "source": [
    "import pandas as pd\n",
    "import numpy as np\n",
    "import matplotlib.pyplot as plt\n",
    "import math as math\n",
    "\n",
    "numbers = [1,2,3,11,12,13]\n",
    "numSeries = pd.Series(numbers)\n",
    "numSeries"
   ]
  },
  {
   "cell_type": "code",
   "execution_count": 3,
   "id": "c83e8719",
   "metadata": {},
   "outputs": [
    {
     "data": {
      "text/plain": [
       "0    False\n",
       "1    False\n",
       "2    False\n",
       "3     True\n",
       "4     True\n",
       "5     True\n",
       "dtype: bool"
      ]
     },
     "execution_count": 3,
     "metadata": {},
     "output_type": "execute_result"
    }
   ],
   "source": [
    "numSeries > 10"
   ]
  },
  {
   "cell_type": "code",
   "execution_count": 4,
   "id": "c6914877",
   "metadata": {},
   "outputs": [
    {
     "data": {
      "text/plain": [
       "0    False\n",
       "1     True\n",
       "2    False\n",
       "3    False\n",
       "4     True\n",
       "5    False\n",
       "dtype: bool"
      ]
     },
     "execution_count": 4,
     "metadata": {},
     "output_type": "execute_result"
    }
   ],
   "source": [
    "numSeries % 2==0"
   ]
  },
  {
   "cell_type": "markdown",
   "id": "97e5c04d",
   "metadata": {},
   "source": [
    "## To filter on more than 1 condition we have to use new variables"
   ]
  },
  {
   "cell_type": "code",
   "execution_count": 8,
   "id": "3e396cea",
   "metadata": {},
   "outputs": [],
   "source": [
    "greaterThan10 = numSeries > 10"
   ]
  },
  {
   "cell_type": "code",
   "execution_count": 9,
   "id": "fd0f6c86",
   "metadata": {},
   "outputs": [],
   "source": [
    "odd = numSeries%2==1"
   ]
  },
  {
   "cell_type": "code",
   "execution_count": 11,
   "id": "a432250e",
   "metadata": {},
   "outputs": [
    {
     "data": {
      "text/plain": [
       "3    11.0\n",
       "5    13.0\n",
       "dtype: float64"
      ]
     },
     "execution_count": 11,
     "metadata": {},
     "output_type": "execute_result"
    }
   ],
   "source": [
    "numSeries.where(greaterThan10 & odd).dropna()"
   ]
  },
  {
   "cell_type": "code",
   "execution_count": 13,
   "id": "2a95f0f6",
   "metadata": {},
   "outputs": [
    {
     "data": {
      "text/plain": [
       "2     3.0\n",
       "3    11.0\n",
       "4    12.0\n",
       "dtype: float64"
      ]
     },
     "execution_count": 13,
     "metadata": {},
     "output_type": "execute_result"
    }
   ],
   "source": [
    "numSeries.where(numSeries.between(3,12)).dropna()"
   ]
  }
 ],
 "metadata": {
  "kernelspec": {
   "display_name": "Python 3 (ipykernel)",
   "language": "python",
   "name": "python3"
  },
  "language_info": {
   "codemirror_mode": {
    "name": "ipython",
    "version": 3
   },
   "file_extension": ".py",
   "mimetype": "text/x-python",
   "name": "python",
   "nbconvert_exporter": "python",
   "pygments_lexer": "ipython3",
   "version": "3.9.7"
  }
 },
 "nbformat": 4,
 "nbformat_minor": 5
}
